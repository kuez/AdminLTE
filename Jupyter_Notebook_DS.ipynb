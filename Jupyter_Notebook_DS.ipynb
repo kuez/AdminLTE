{
  "nbformat": 4,
  "nbformat_minor": 0,
  "metadata": {
    "colab": {
      "name": "Jupyter Notebook_DS",
      "version": "0.3.2",
      "provenance": [],
      "collapsed_sections": [],
      "include_colab_link": true
    },
    "kernelspec": {
      "display_name": "Python 3",
      "name": "python3"
    }
  },
  "cells": [
    {
      "cell_type": "markdown",
      "metadata": {
        "id": "view-in-github",
        "colab_type": "text"
      },
      "source": [
        "<a href=\"https://colab.research.google.com/github/kuez/AdminLTE/blob/master/Jupyter_Notebook_DS.ipynb\" target=\"_parent\"><img src=\"https://colab.research.google.com/assets/colab-badge.svg\" alt=\"Open In Colab\"/></a>"
      ]
    },
    {
      "cell_type": "markdown",
      "metadata": {
        "id": "Kh1YlwJFsrW4",
        "colab_type": "text"
      },
      "source": [
        "## ¿Qué es Jupyter?\n",
        "\n",
        "[Jupyter](https://jupyter.org/) es un proyecto que existe para desarrollar software de código abierto, estándares abiertos, y servicios para cómputo interactivo a través de docenas de lenguajes de programación.\n",
        "\n",
        "\n"
      ]
    },
    {
      "cell_type": "markdown",
      "metadata": {
        "id": "wweZK-t6xy_H",
        "colab_type": "text"
      },
      "source": [
        "### ¿Qué es Jupyter Notebook?\n",
        "\n",
        "Jupyter Notebook es una aplicación web de código abierto cuyos usos incluyen: limpieza y transformación de datos, simulación numérica, modelado estadístico, visualización de datos, aprendizaje de máquina (automático) y mucho más."
      ]
    },
    {
      "cell_type": "markdown",
      "metadata": {
        "id": "jjTI4FBxyTmp",
        "colab_type": "text"
      },
      "source": [
        "### ¿Qué es Jupyter Lab: Jupyter’s Next-Generation Notebook Interface?\n",
        "\n",
        "\n",
        "\n",
        "JupyterLab es un entorno de desarrollo interactivo basado en web para Jupyter notebooks, código y datos. Es flexible ya que permite configurar y organizar la interfaz de usuario para admitir una amplia gama de flujos de trabajo en ciencia de datos, informática científica y aprendizaje automático. Además es extensible y modular ya que permite escribir extensiones que agregan nuevos componentes y se integran con los existentes."
      ]
    },
    {
      "cell_type": "markdown",
      "metadata": {
        "id": "g5nx-fjLzQJF",
        "colab_type": "text"
      },
      "source": [
        "### ¿Qué es Colab?\n",
        "\n",
        "- Colaboratory es un entorno de Jupyter notebooks gratuito que no requiere configuración y se ejecuta completamente en la nube de Google.\n",
        "\n",
        "- Este pertenece a los productos de R&D de Google y se encuentra ya integrado completamente a Google Drive. \n",
        "\n",
        "- Con Colaboratory puedes escribir y ejecutar código, guardar y compartir análisis, así como acceder a potentes recursos informáticos, todo de forma gratuita y segura desde su navegador."
      ]
    },
    {
      "cell_type": "markdown",
      "metadata": {
        "colab_type": "text",
        "id": "d3MZc2xryAg4"
      },
      "source": [
        "# Jupyter Notebook en Acción\n",
        "\n",
        "La notebooks consisten en dos tipos de celda: text y código.  \n",
        "\n",
        "## Celdas tipo texto \n",
        "En las celdas de texto se puede usar notación tipo [markdown](https://jupyter-notebook.readthedocs.io/en/stable/examples/Notebook/Working%20With%20Markdown%20Cells.html) lo cual permite rápidamente crear un documento de trabajo con estilos.\n",
        "\n",
        "\n",
        "\n"
      ]
    },
    {
      "cell_type": "markdown",
      "metadata": {
        "id": "RvivzZxyjneR",
        "colab_type": "text"
      },
      "source": [
        "### Markdown acepta Latex como input ! Tanto inline ( $f(x) = x^2$ ) como modo *equation*\n",
        "\n",
        "$$e^x=\\sum_{i=0}^\\infty \\frac{1}{i!}x^i$$\n"
      ]
    },
    {
      "cell_type": "markdown",
      "metadata": {
        "id": "fl-uvFhcnQoN",
        "colab_type": "text"
      },
      "source": [
        "\\begin{equation}\n",
        "\\mathfrak{A B C D E F G H I J K a  b c d f g h i j k 1 2 3 4 5 }\n",
        "\\end{equation}\n",
        "\n",
        "\\begin{equation}\n",
        "\\mathrm{A B C D E F G H I J K a  b c d f g h i j k 1 2 3 4 5 }\n",
        "\\end{equation}\n",
        "\n",
        "\\begin{equation}\n",
        "\\mathit{A B C D E F G H I J K a  b c d f g h i j k 1 2 3 4 5 }\n",
        "\\end{equation}\n",
        "\n",
        "\\begin{equation}\n",
        "\\mathbf{A B C D E F G H I J K a  b c d f g h i j k 1 2 3 4 5 }\n",
        "\\end{equation}\n",
        "\n",
        "\\begin{equation}\n",
        "\\mathsf{A B C D E F G H I J K a  b c d f g h i j k 1 2 3 4 5 }\n",
        "\\end{equation}\n",
        "\n",
        "\\begin{equation}\n",
        "\\mathcal{A B C D E F G H I J K a  b c d f g h i j k 1 2 3 4 5 }\n",
        "\\end{equation}"
      ]
    },
    {
      "cell_type": "markdown",
      "metadata": {
        "id": "01VrSQEJnQoO",
        "colab_type": "text"
      },
      "source": [
        "\\begin{equation}\n",
        "\\forall x \\in X, \\quad \\exists y \\leq \\epsilon\n",
        "\\end{equation}"
      ]
    },
    {
      "cell_type": "markdown",
      "metadata": {
        "id": "Ksy7qG44nQoP",
        "colab_type": "text"
      },
      "source": [
        "\\begin{equation}\n",
        "\\alpha, \\beta, \\gamma, \\Gamma, \\pi, \\Pi, \\phi, \\varphi, \\mu, \\Phi\n",
        "\\end{equation}"
      ]
    },
    {
      "cell_type": "markdown",
      "metadata": {
        "id": "tDLSvlBQnQoQ",
        "colab_type": "text"
      },
      "source": [
        "\\begin{equation}\n",
        "\\cos (2\\theta) = \\cos^2 \\theta - \\sin^2 \\theta\n",
        "\\end{equation}"
      ]
    },
    {
      "cell_type": "markdown",
      "metadata": {
        "id": "YrKqGBC5nQoR",
        "colab_type": "text"
      },
      "source": [
        "\\begin{equation}\n",
        "\\lim\\limits_{x \\to \\infty} \\exp(-x) = 0\n",
        "\\end{equation}"
      ]
    },
    {
      "cell_type": "markdown",
      "metadata": {
        "id": "kSyD7xu2nQoT",
        "colab_type": "text"
      },
      "source": [
        "\\begin{equation}\n",
        "x \\equiv a \\pmod{b}\n",
        "\\end{equation}"
      ]
    },
    {
      "cell_type": "markdown",
      "metadata": {
        "id": "_2jEOAyknQoU",
        "colab_type": "text"
      },
      "source": [
        "\\begin{equation}\n",
        "k_{n+1} = n^2 + k_n^2 - k_{n-1}\n",
        "\\end{equation}"
      ]
    },
    {
      "cell_type": "markdown",
      "metadata": {
        "id": "IiWYouqanQoV",
        "colab_type": "text"
      },
      "source": [
        "\\begin{equation}\n",
        "\\frac{n!}{k!(n-k)!} = \\binom{n}{k}\n",
        "\\end{equation}"
      ]
    },
    {
      "cell_type": "markdown",
      "metadata": {
        "id": "U11-s8OanQoY",
        "colab_type": "text"
      },
      "source": [
        "\\begin{equation}\n",
        "\\sqrt[n]{1+x+x^2+x^3+\\dots+x^n}\n",
        "\\end{equation}"
      ]
    },
    {
      "cell_type": "markdown",
      "metadata": {
        "id": "98yev42enQob",
        "colab_type": "text"
      },
      "source": [
        "\\begin{equation}\n",
        "( a ), [ b ], \\{ c \\}, | d |, \\| e \\|,\n",
        "\\langle f \\rangle, \\lfloor g \\rfloor,\n",
        "\\lceil h \\rceil, \\ulcorner i \\urcorner\n",
        "\\end{equation}"
      ]
    },
    {
      "cell_type": "markdown",
      "metadata": {
        "id": "lZALIwHonQoc",
        "colab_type": "text"
      },
      "source": [
        "\\begin{equation}\n",
        "\\frac{\\mathrm d}{\\mathrm d x} \\big( k g(x) \\big)\n",
        "\\end{equation}"
      ]
    },
    {
      "cell_type": "markdown",
      "metadata": {
        "id": "Qh-H9u-SnQod",
        "colab_type": "text"
      },
      "source": [
        "\\begin{equation}\n",
        "A_{m,n} = \n",
        " \\begin{pmatrix}\n",
        "  a_{1,1} & a_{1,2} & \\cdots & a_{1,n} \\\\\n",
        "  a_{2,1} & a_{2,2} & \\cdots & a_{2,n} \\\\\n",
        "  \\vdots  & \\vdots  & \\ddots & \\vdots  \\\\\n",
        "  a_{m,1} & a_{m,2} & \\cdots & a_{m,n} \n",
        " \\end{pmatrix}\n",
        " \\end{equation}"
      ]
    },
    {
      "cell_type": "markdown",
      "metadata": {
        "id": "Lqrk_WYOt47E",
        "colab_type": "text"
      },
      "source": [
        "También acepta sintaxis de tablas: \n",
        "\n",
        "| Esto | es   |\n",
        "|------|------|\n",
        "|   una  | tabla|\n",
        "| de | prueba |\n",
        "|para | GNP |"
      ]
    },
    {
      "cell_type": "markdown",
      "metadata": {
        "id": "tIYgzHxSycUQ",
        "colab_type": "text"
      },
      "source": [
        "## Celdas tipo código"
      ]
    },
    {
      "cell_type": "code",
      "metadata": {
        "colab_type": "code",
        "id": "0spwv4oMyILm",
        "colab": {}
      },
      "source": [
        "## Esta es una celda de código (Este es un comentario)\n",
        "## print(\"El comentario impide ejecución\")\n",
        "\n",
        "mensaje = \"Hola Jupyter!!\"\n",
        "\n",
        "print(mensaje+'\\n')\n",
        "\n",
        "x = [ letra for letra in mensaje ]\n",
        "\n",
        "print(\"El mensaje hecho lista:\")\n",
        "print(x)\n",
        "print(\"\\n\")\n",
        "\n",
        "print(\"El total del letras es %d\" % len(x))"
      ],
      "execution_count": 0,
      "outputs": []
    },
    {
      "cell_type": "markdown",
      "metadata": {
        "id": "rONTqi0euAEf",
        "colab_type": "text"
      },
      "source": [
        "# Ejercicios de Manipulación de Datos"
      ]
    },
    {
      "cell_type": "markdown",
      "metadata": {
        "colab_type": "text",
        "id": "qTmLBxDxBAZL"
      },
      "source": [
        "### Primero hay que proveer de credenciales a Colab\n",
        "Es decir, es necesario autenticarse vía la cuenta de GSuite de GNP.\n"
      ]
    },
    {
      "cell_type": "code",
      "metadata": {
        "colab_type": "code",
        "id": "SeTJb51SKs_W",
        "colab": {}
      },
      "source": [
        "from google.colab import auth\n",
        "auth.authenticate_user()\n",
        "print('Autenticado')"
      ],
      "execution_count": 0,
      "outputs": []
    },
    {
      "cell_type": "markdown",
      "metadata": {
        "id": "IbBQBnnwtMZc",
        "colab_type": "text"
      },
      "source": [
        "# Lectura de archivos desde Local "
      ]
    },
    {
      "cell_type": "code",
      "metadata": {
        "id": "Dmq9fA5OlDgH",
        "colab_type": "code",
        "colab": {}
      },
      "source": [
        "## Se cargan las librerías para importar archivos (a veces requiere ejecución doble)\n",
        "from google.colab import files\n",
        "uploaded = files.upload()"
      ],
      "execution_count": 0,
      "outputs": []
    },
    {
      "cell_type": "markdown",
      "metadata": {
        "id": "5BSKssHH6ZRJ",
        "colab_type": "text"
      },
      "source": [
        "## Lectura de CSV"
      ]
    },
    {
      "cell_type": "code",
      "metadata": {
        "id": "cWN5A0NOwoiS",
        "colab_type": "code",
        "colab": {}
      },
      "source": [
        "# Se usa pandas para leer el archivo CSV en DataFrame\n",
        "import pandas as pd\n",
        "\n",
        "# Lectura de csv\n",
        "data = pd.read_csv('sample.csv')\n",
        "\n",
        "# Se usa el método head con argumento de 3 lineas\n",
        "data.head(3)"
      ],
      "execution_count": 0,
      "outputs": []
    },
    {
      "cell_type": "markdown",
      "metadata": {
        "id": "lqNUzdXLiZWc",
        "colab_type": "text"
      },
      "source": [
        "# Manipulación de datos\n",
        "\n",
        "Conocer el perfil del cliente que paga en promedio la prima mayor\n",
        "  - Género, edad, lugar y plan.\n",
        "  - *Extra: ¿Cuántas personsas cumplen con este perfil y en dónde se localizan?*"
      ]
    },
    {
      "cell_type": "markdown",
      "metadata": {
        "id": "Iso46l2gh2sc",
        "colab_type": "text"
      },
      "source": [
        "### 1. ¿Con cuántos datos trabajaremos?"
      ]
    },
    {
      "cell_type": "code",
      "metadata": {
        "id": "bXUQe7rQEW4q",
        "colab_type": "code",
        "colab": {}
      },
      "source": [
        ""
      ],
      "execution_count": 0,
      "outputs": []
    },
    {
      "cell_type": "code",
      "metadata": {
        "id": "zpNrlBUViEWr",
        "colab_type": "code",
        "cellView": "form",
        "colab": {}
      },
      "source": [
        "#@title\n",
        "## Se utiliza el valor 'shape' para ver las dimensiones del dataframe\n",
        "data.shape"
      ],
      "execution_count": 0,
      "outputs": []
    },
    {
      "cell_type": "markdown",
      "metadata": {
        "id": "QMbDVZeDjG4N",
        "colab_type": "text"
      },
      "source": [
        "### 2. ¿Cuáles son las columnas del conjunto de datos?"
      ]
    },
    {
      "cell_type": "code",
      "metadata": {
        "id": "V1PvQWG8Eb0u",
        "colab_type": "code",
        "colab": {}
      },
      "source": [
        ""
      ],
      "execution_count": 0,
      "outputs": []
    },
    {
      "cell_type": "code",
      "metadata": {
        "id": "c9WSgpShjdti",
        "colab_type": "code",
        "cellView": "form",
        "colab": {}
      },
      "source": [
        "#@title\n",
        "## Se utiliza el valor 'columns' para ver las dimensiones del dataframe\n",
        "data.columns"
      ],
      "execution_count": 0,
      "outputs": []
    },
    {
      "cell_type": "markdown",
      "metadata": {
        "id": "Gk_jjINkjjBl",
        "colab_type": "text"
      },
      "source": [
        "### 3. Selecciona las siguientes columnas de interés: 'CDFILIAC', 'prima_pag', 'TCFORPAG', 'INSEXO', 'FECNACA', 'PLNDSC', 'DSEDOPLZ'"
      ]
    },
    {
      "cell_type": "code",
      "metadata": {
        "id": "GfDtTySlEiui",
        "colab_type": "code",
        "colab": {}
      },
      "source": [
        ""
      ],
      "execution_count": 0,
      "outputs": []
    },
    {
      "cell_type": "code",
      "metadata": {
        "id": "BwxRuNCHkCPu",
        "colab_type": "code",
        "cellView": "form",
        "colab": {}
      },
      "source": [
        "#@title\n",
        "## Se reemplaza la variable `data` por un subconjunto de columnas\n",
        "data = data[['CDFILIAC','prima_pag','INSEXO','FECNACA','PLNDSC','DSEDOPLZ']]\n",
        "data.head()"
      ],
      "execution_count": 0,
      "outputs": []
    },
    {
      "cell_type": "markdown",
      "metadata": {
        "id": "jOZH-82ZlsIh",
        "colab_type": "text"
      },
      "source": [
        "### 3.1 Limpieza básica de los datos\n",
        " -   Cambiar el nombres de las columnas y verificar el tipo\n",
        " -   Checar valores nulos\n",
        " -   ¿Existen primas negativas o cero?\n",
        " -   Cálculo de edades"
      ]
    },
    {
      "cell_type": "markdown",
      "metadata": {
        "id": "oSSIzyKTmfCI",
        "colab_type": "text"
      },
      "source": [
        "#### 3.1 a) Cambia el nombre de las columnas a: 'CDFILIAC', 'PRIMA_PAGADA', 'GEN', 'FECHNAC', 'PLAN', 'LUGAR'"
      ]
    },
    {
      "cell_type": "code",
      "metadata": {
        "id": "wW_3TMhFEp91",
        "colab_type": "code",
        "colab": {}
      },
      "source": [
        ""
      ],
      "execution_count": 0,
      "outputs": []
    },
    {
      "cell_type": "code",
      "metadata": {
        "id": "wYktZykHnVQi",
        "colab_type": "code",
        "cellView": "form",
        "colab": {}
      },
      "source": [
        "#@title\n",
        "## Se sustituye el valor de 'columns' con los nuevos nombres\n",
        "data.columns = ['CDFILIAC', 'PRIMA_PAGADA', 'GEN', 'FECHNAC', 'PLAN', 'LUGAR']\n",
        "data.head()"
      ],
      "execution_count": 0,
      "outputs": []
    },
    {
      "cell_type": "markdown",
      "metadata": {
        "id": "czh6mBq7qJLu",
        "colab_type": "text"
      },
      "source": [
        "#### 3.1 b) Verifica el tipo de las columnas."
      ]
    },
    {
      "cell_type": "code",
      "metadata": {
        "id": "D63G9tqyEuhj",
        "colab_type": "code",
        "colab": {}
      },
      "source": [
        ""
      ],
      "execution_count": 0,
      "outputs": []
    },
    {
      "cell_type": "code",
      "metadata": {
        "id": "MbJMPkniqMKY",
        "colab_type": "code",
        "cellView": "form",
        "colab": {}
      },
      "source": [
        "#@title\n",
        "## Se revisan los tipos de las columnas con el valor 'dtypes'\n",
        "\n",
        "data.dtypes"
      ],
      "execution_count": 0,
      "outputs": []
    },
    {
      "cell_type": "markdown",
      "metadata": {
        "id": "_29vNxJ1qcXn",
        "colab_type": "text"
      },
      "source": [
        "Necesitamos cambiar el tipo de la variable PRIMA.\n",
        "Ejecuta la siguiente celda:\n",
        "\n"
      ]
    },
    {
      "cell_type": "code",
      "metadata": {
        "id": "j8qFVLuatj19",
        "colab_type": "code",
        "colab": {}
      },
      "source": [
        "## Para modificar una colunma se sustituye directamente, la columna permite aplicar el metodos 'astype'\n",
        "\n",
        "data['PRIMA_PAGADA'] = data['PRIMA_PAGADA'].astype(float)"
      ],
      "execution_count": 0,
      "outputs": []
    },
    {
      "cell_type": "markdown",
      "metadata": {
        "id": "K0_lXhuGtBbY",
        "colab_type": "text"
      },
      "source": [
        "#### ¿Por qué `data['PRIMA'] = data['PRIMA'].astype(float)` no funciona?"
      ]
    },
    {
      "cell_type": "code",
      "metadata": {
        "id": "0za7bLgvsQfb",
        "colab_type": "code",
        "colab": {}
      },
      "source": [
        "## Se ejecuta otro método para convertir de string a numerico\n",
        "data['PRIMA_PAGADA'] =  pd.to_numeric(data['PRIMA_PAGADA'],errors='coerce')"
      ],
      "execution_count": 0,
      "outputs": []
    },
    {
      "cell_type": "markdown",
      "metadata": {
        "id": "_nDd81Z7oOHn",
        "colab_type": "text"
      },
      "source": [
        "####3.2 Indica el número de registros nulos por columna"
      ]
    },
    {
      "cell_type": "code",
      "metadata": {
        "id": "elv6efMlE6ak",
        "colab_type": "code",
        "colab": {}
      },
      "source": [
        ""
      ],
      "execution_count": 0,
      "outputs": []
    },
    {
      "cell_type": "code",
      "metadata": {
        "id": "hSk8XNDbozQn",
        "colab_type": "code",
        "cellView": "form",
        "colab": {}
      },
      "source": [
        "#@title\n",
        "## Para encontrar los registros nulos usamos el método 'is.null()' \n",
        "## Luego se aplica de forma encadenada la suma, por default sobre la 1era dimensión\n",
        "\n",
        "data.isnull().sum()"
      ],
      "execution_count": 0,
      "outputs": []
    },
    {
      "cell_type": "markdown",
      "metadata": {
        "id": "BhCfCUHApO-K",
        "colab_type": "text"
      },
      "source": [
        "### ¿Cuáles son estos registros? Elimínalos del conjunto de datos."
      ]
    },
    {
      "cell_type": "code",
      "metadata": {
        "id": "XVdrG7oaE9rH",
        "colab_type": "code",
        "colab": {}
      },
      "source": [
        ""
      ],
      "execution_count": 0,
      "outputs": []
    },
    {
      "cell_type": "code",
      "metadata": {
        "id": "r_LiEtMrpjCT",
        "colab_type": "code",
        "cellView": "form",
        "colab": {}
      },
      "source": [
        "#@title\n",
        "## Se imprimen y se filtran de forma lógica (dos condiciones) los valores nulos en tales variables\n",
        "print(data[(data.LUGAR.isnull()) | (data.PRIMA_PAGADA.isnull())].head())\n",
        "data = data[~((data.LUGAR.isnull()) | (data.PRIMA_PAGADA.isnull()))]"
      ],
      "execution_count": 0,
      "outputs": []
    },
    {
      "cell_type": "markdown",
      "metadata": {
        "id": "mF3JHLCgp1j9",
        "colab_type": "text"
      },
      "source": [
        "#### 3.3 ¿Existen primas negativas o cero? ¿Cuántos registros?\n",
        "\n"
      ]
    },
    {
      "cell_type": "code",
      "metadata": {
        "id": "VdjWSKalFJkZ",
        "colab_type": "code",
        "colab": {}
      },
      "source": [
        ""
      ],
      "execution_count": 0,
      "outputs": []
    },
    {
      "cell_type": "code",
      "metadata": {
        "id": "7pBcovb7FJNy",
        "colab_type": "code",
        "colab": {}
      },
      "source": [
        ""
      ],
      "execution_count": 0,
      "outputs": []
    },
    {
      "cell_type": "code",
      "metadata": {
        "id": "1M7kwG8Gp-cN",
        "colab_type": "code",
        "cellView": "form",
        "colab": {}
      },
      "source": [
        "#@title\n",
        "data[data.PRIMA_PAGADA<0].shape"
      ],
      "execution_count": 0,
      "outputs": []
    },
    {
      "cell_type": "code",
      "metadata": {
        "id": "H24q8iHBvWWP",
        "colab_type": "code",
        "cellView": "form",
        "colab": {}
      },
      "source": [
        "#@title\n",
        "data[data.PRIMA_PAGADA==0].shape"
      ],
      "execution_count": 0,
      "outputs": []
    },
    {
      "cell_type": "markdown",
      "metadata": {
        "id": "ed1T9c6Qvdc_",
        "colab_type": "text"
      },
      "source": [
        "Filtra el conjunto de datos por registros con primas mayores a cero."
      ]
    },
    {
      "cell_type": "code",
      "metadata": {
        "id": "XaLLDAvpFOvG",
        "colab_type": "code",
        "colab": {}
      },
      "source": [
        ""
      ],
      "execution_count": 0,
      "outputs": []
    },
    {
      "cell_type": "code",
      "metadata": {
        "id": "3ZFPPq0Xvlk9",
        "colab_type": "code",
        "cellView": "form",
        "colab": {}
      },
      "source": [
        "#@title\n",
        "data = data[data.PRIMA>0]"
      ],
      "execution_count": 0,
      "outputs": []
    },
    {
      "cell_type": "markdown",
      "metadata": {
        "id": "3L45kGdiwG8o",
        "colab_type": "text"
      },
      "source": [
        "####3.4 Cálculo de edades"
      ]
    },
    {
      "cell_type": "markdown",
      "metadata": {
        "id": "N3APSzbvFSOh",
        "colab_type": "text"
      },
      "source": [
        "1. Extrae los últimos 4 dígitos de la fecha de nacimiento y guárdalos en una columna llamada AÑO.\n",
        "2. Asegura que el tipo de la variable es entero.\n",
        "3. Realiza la resta entre el año 2019 y la variable AÑO para obtener la variable EDAD."
      ]
    },
    {
      "cell_type": "code",
      "metadata": {
        "id": "ufJE4qfZF20D",
        "colab_type": "code",
        "colab": {}
      },
      "source": [
        ""
      ],
      "execution_count": 0,
      "outputs": []
    },
    {
      "cell_type": "code",
      "metadata": {
        "id": "JsSm26P4wQHI",
        "colab_type": "code",
        "cellView": "form",
        "colab": {}
      },
      "source": [
        "#@title\n",
        "## Se extrae el año de nacimiento\n",
        "data['AÑO'] = data.FECHNAC.str[-4:]\n",
        "\n",
        "## Se convierte a entero\n",
        "data['AÑO'] = data.AÑO.astype(int)\n",
        "\n",
        "## Se hace uso del método map (esta es la forma eficiente de funciones columnares)\n",
        "data['EDAD'] = data.AÑO.map(lambda x: 2019 - x)"
      ],
      "execution_count": 0,
      "outputs": []
    },
    {
      "cell_type": "code",
      "metadata": {
        "id": "WtbSHAqqxaRB",
        "colab_type": "code",
        "colab": {}
      },
      "source": [
        "## Verificar el dataframe hasta el momento\n",
        "data.head()"
      ],
      "execution_count": 0,
      "outputs": []
    },
    {
      "cell_type": "markdown",
      "metadata": {
        "id": "MLKw7zLYxhtC",
        "colab_type": "text"
      },
      "source": [
        "###4. Exploración de las columnas"
      ]
    },
    {
      "cell_type": "markdown",
      "metadata": {
        "id": "G0HHIvPCGbSk",
        "colab_type": "text"
      },
      "source": [
        "Así se conforma el conjunto de datos de acuerdo a la variable de GÉNERO."
      ]
    },
    {
      "cell_type": "code",
      "metadata": {
        "id": "z-FuvQexGYEo",
        "colab_type": "code",
        "colab": {}
      },
      "source": [
        "data.GEN.value_counts()"
      ],
      "execution_count": 0,
      "outputs": []
    },
    {
      "cell_type": "markdown",
      "metadata": {
        "id": "54ey-NO-F9OY",
        "colab_type": "text"
      },
      "source": [
        "Selecciona las columnas 'PLAN', 'LUGAR' y muestra un resumen del TOP de los registros usando la función value_counts()."
      ]
    },
    {
      "cell_type": "code",
      "metadata": {
        "id": "HGgKSfyVGteU",
        "colab_type": "code",
        "colab": {}
      },
      "source": [
        ""
      ],
      "execution_count": 0,
      "outputs": []
    },
    {
      "cell_type": "code",
      "metadata": {
        "id": "K6umP9YV7-kt",
        "colab_type": "code",
        "cellView": "form",
        "colab": {}
      },
      "source": [
        "#@title\n",
        "#selección de columnas para analizar\n",
        "columnas = ['PLAN','LUGAR']\n",
        "\n",
        "#se imprime la función value_counts para las columnas seleccionadas\n",
        "for i in columnas:\n",
        "  print(data[i].value_counts().head())"
      ],
      "execution_count": 0,
      "outputs": []
    },
    {
      "cell_type": "markdown",
      "metadata": {
        "id": "ZeWqQ-GQ9hha",
        "colab_type": "text"
      },
      "source": [
        "Crea un histograma de la variable EDAD."
      ]
    },
    {
      "cell_type": "code",
      "metadata": {
        "id": "vZnnaV4ZGyt4",
        "colab_type": "code",
        "colab": {}
      },
      "source": [
        ""
      ],
      "execution_count": 0,
      "outputs": []
    },
    {
      "cell_type": "code",
      "metadata": {
        "id": "vCeSRUUF9BoN",
        "colab_type": "code",
        "cellView": "form",
        "colab": {}
      },
      "source": [
        "#@title\n",
        "data.EDAD.hist(figsize=(12,8));"
      ],
      "execution_count": 0,
      "outputs": []
    },
    {
      "cell_type": "markdown",
      "metadata": {
        "id": "slpr8tsH9Rqm",
        "colab_type": "text"
      },
      "source": [
        "###5. Análisis numérico de la variable PRIMA"
      ]
    },
    {
      "cell_type": "markdown",
      "metadata": {
        "id": "C46Xy6CD9qcb",
        "colab_type": "text"
      },
      "source": [
        "Utiliza la función describe() y hist() para analizar la variable."
      ]
    },
    {
      "cell_type": "code",
      "metadata": {
        "id": "Vz_XoppdDqwF",
        "colab_type": "code",
        "colab": {}
      },
      "source": [
        ""
      ],
      "execution_count": 0,
      "outputs": []
    },
    {
      "cell_type": "code",
      "metadata": {
        "id": "bAjsjWZ_9tP7",
        "colab_type": "code",
        "cellView": "form",
        "colab": {}
      },
      "source": [
        "#@title\n",
        "data.PRIMA_PAGADA.describe()"
      ],
      "execution_count": 0,
      "outputs": []
    },
    {
      "cell_type": "code",
      "metadata": {
        "id": "7c6m4R_k9y0r",
        "colab_type": "code",
        "cellView": "form",
        "colab": {}
      },
      "source": [
        "#@title\n",
        "data.PRIMA_PAGADA.hist(figsize=(12,8));"
      ],
      "execution_count": 0,
      "outputs": []
    },
    {
      "cell_type": "markdown",
      "metadata": {
        "id": "JXf2B9IV-kDh",
        "colab_type": "text"
      },
      "source": [
        "**¿Por qué el rango de la variable PRIMA es tan extenso?**"
      ]
    },
    {
      "cell_type": "markdown",
      "metadata": {
        "id": "0FWvFEE12yL4",
        "colab_type": "text"
      },
      "source": [
        "### 6. Lectura de archivos de Sheets"
      ]
    },
    {
      "cell_type": "code",
      "metadata": {
        "id": "siRfpYz22phM",
        "colab_type": "code",
        "colab": {}
      },
      "source": [
        "## Con pip install se instalan las librerías necesarias \n",
        "\n",
        "!pip install --upgrade -q gspread\n",
        "\n",
        "## Se importan las librerías\n",
        "\n",
        "import gspread\n",
        "# from google.colab import auth\n",
        "from oauth2client.client import GoogleCredentials\n",
        "auth.authenticate_user()\n",
        "gc = gspread.authorize(GoogleCredentials.get_application_default())\n",
        "\n",
        "# Opción 1\n",
        "# Abrir sheets directo con el nombre que aparece en Google Docs\n",
        "sh = gc.open('sample') \n",
        "sheet1 =  sh.get_worksheet(0) #que lea la primer hoja\n",
        "sheet2 =  sh.get_worksheet(1) #que lea la segunda hoja\n",
        "\n",
        "#Opción 2\n",
        "# Si quieres ser específico puedes usar una \"key\" que se extrae del url\n",
        "#sht1 = gc.open_by_key('1g2Uedrc3DhUxnLiHgUedc6Zx5o2V6ymgkyC6eDF2CCY')\n",
        "\n",
        "#Opción 3\n",
        "# O puedes copiar todo el url\n",
        "#sht2 = gc.open_by_url('https://docs.google.com/spreadsheets/d/1g2Uedrc3DhUxnLiHgUedc6Zx5o2V6ymgkyC6eDF2CCY/edit?ts=5d4ae111#gid=0')\n",
        "\n",
        "rows1 = sheet1.get_all_values()\n",
        "data1 = pd.DataFrame.from_records(rows1)\n",
        "\n",
        "rows2 = sheet2.get_all_values()\n",
        "data2 = pd.DataFrame.from_records(rows2)\n",
        "\n",
        "# La primer línea debería ser el nombre de la columna\n",
        "data1.head()"
      ],
      "execution_count": 0,
      "outputs": []
    },
    {
      "cell_type": "code",
      "metadata": {
        "id": "82sdC6K83Svm",
        "colab_type": "code",
        "colab": {}
      },
      "source": [
        "## Se usa la primera fila para guardar los nombres\n",
        "data1.columns = data1.iloc[0]\n",
        "\n",
        "## Se tira la primera fila \n",
        "data1 = data1.drop([0],axis=0)"
      ],
      "execution_count": 0,
      "outputs": []
    },
    {
      "cell_type": "code",
      "metadata": {
        "id": "Gbm88Mlw6xZG",
        "colab_type": "code",
        "colab": {}
      },
      "source": [
        "data1.head()"
      ],
      "execution_count": 0,
      "outputs": []
    },
    {
      "cell_type": "markdown",
      "metadata": {
        "id": "sTtTLiaE-6iI",
        "colab_type": "text"
      },
      "source": [
        "###7. JOIN entre el conjunto de Google Sheets y el conjunto de Colab"
      ]
    },
    {
      "cell_type": "code",
      "metadata": {
        "id": "rE8omRrH_ExP",
        "colab_type": "code",
        "colab": {}
      },
      "source": [
        "df = pd.merge(data,data1, how='left', on='CDFILIAC')\n",
        "df.head()"
      ],
      "execution_count": 0,
      "outputs": []
    },
    {
      "cell_type": "markdown",
      "metadata": {
        "id": "9mXIV7p8__li",
        "colab_type": "text"
      },
      "source": [
        "Usaremos la forma de pago más común ¿cuál es?"
      ]
    },
    {
      "cell_type": "code",
      "metadata": {
        "id": "9B39SFDrHKqT",
        "colab_type": "code",
        "colab": {}
      },
      "source": [
        ""
      ],
      "execution_count": 0,
      "outputs": []
    },
    {
      "cell_type": "code",
      "metadata": {
        "id": "gN_CCyXH_Evs",
        "colab_type": "code",
        "cellView": "form",
        "colab": {}
      },
      "source": [
        "#@title\n",
        "df.TCFORPAG.value_counts()"
      ],
      "execution_count": 0,
      "outputs": []
    },
    {
      "cell_type": "markdown",
      "metadata": {
        "id": "XkwPftEgHV11",
        "colab_type": "text"
      },
      "source": [
        "###8. Resultado utilizando GROUP BY() ORDER BY()"
      ]
    },
    {
      "cell_type": "markdown",
      "metadata": {
        "id": "5tFjaWWnHbN5",
        "colab_type": "text"
      },
      "source": [
        "Se debe agrupar la información de acuerdo a las características del perfil buscado y obtener el promedio mayor."
      ]
    },
    {
      "cell_type": "code",
      "metadata": {
        "id": "fDN5O9_JAPfR",
        "colab_type": "code",
        "colab": {}
      },
      "source": [
        "import numpy as np\n",
        "df[df.TCFORPAG=='A'].groupby(['GEN','EDAD','LUGAR','PLAN']).agg({'PRIMA_PAGADA':np.mean}).reset_index().sort_values('PRIMA_PAGADA', ascending=False)"
      ],
      "execution_count": 0,
      "outputs": []
    },
    {
      "cell_type": "markdown",
      "metadata": {
        "id": "MYlsiY7O2s2T",
        "colab_type": "text"
      },
      "source": [
        "## Bonus:: Lectura de archivos de Excel desde Local\n",
        "\n"
      ]
    },
    {
      "cell_type": "code",
      "metadata": {
        "id": "uDaKtfR25eWC",
        "colab_type": "code",
        "colab": {}
      },
      "source": [
        "## Invocamos de nuevo el método para cargar \n",
        "uploaded = files.upload()"
      ],
      "execution_count": 0,
      "outputs": []
    },
    {
      "cell_type": "code",
      "metadata": {
        "id": "dqBHrWUZ2hyf",
        "colab_type": "code",
        "colab": {}
      },
      "source": [
        "## Se usa pandas para leer el archivo hacia un objeto DataFrame\n",
        "filename = 'Posibles Asegurados Vida Grupo.xlsx' \n",
        "data_ext = pd.read_excel(filename)#.head()\n",
        "data_ext.head(3)"
      ],
      "execution_count": 0,
      "outputs": []
    },
    {
      "cell_type": "code",
      "metadata": {
        "id": "QSMhQlXX2pcA",
        "colab_type": "code",
        "colab": {}
      },
      "source": [
        "## En caso de que la información se encuentre en otra hoja por ejemplo 'Detectados'\n",
        "data_ext = pd.read_excel(filename,  sheet_name='Detectados')#.head()\n",
        "data_ext.head()"
      ],
      "execution_count": 0,
      "outputs": []
    },
    {
      "cell_type": "markdown",
      "metadata": {
        "id": "kriQVprY0_7Y",
        "colab_type": "text"
      },
      "source": [
        "# Lectura de tablas en BigQuery "
      ]
    },
    {
      "cell_type": "markdown",
      "metadata": {
        "colab_type": "text",
        "id": "OHCBQv4uTCPc"
      },
      "source": [
        "## Usar BigQuery a través de *magics*\n",
        "\n",
        "La librería `google.cloud.bigquery` también incluye comandos mágicos que ejecutan una consulta (query) y muestra el resultado o bien lo guarda en una variable del tipo `DataFrame`.\n"
      ]
    },
    {
      "cell_type": "markdown",
      "metadata": {
        "id": "EtC-faL-dTBy",
        "colab_type": "text"
      },
      "source": [
        "### Uso de magics %% \n",
        "Los signos %% son denominados 'magic'\n",
        "\n",
        "Funcionan para comunicar al entorno de ejecución que se utilizará cierta sintaxis"
      ]
    },
    {
      "cell_type": "code",
      "metadata": {
        "colab_type": "code",
        "id": "DMxOKQ3vJplj",
        "colab": {}
      },
      "source": [
        "# Muestra el resultado de forma inmediata (Esto es una comentario de prueba dentro del código)\n",
        "# En este caso se usara bigquery con un argumento 'project' y permite usar sintaxis SQL directamente\n",
        "\n",
        "%%bigquery --project dlk-sem-gmm-qa\n",
        "SELECT \n",
        "  COUNT(*) as total_registros\n",
        "FROM `dlk-sem-gmm-qa.dlk_capacitacion.cnm_solicitud`"
      ],
      "execution_count": 0,
      "outputs": []
    },
    {
      "cell_type": "code",
      "metadata": {
        "colab_type": "code",
        "id": "cLh05lDpJ4wj",
        "colab": {}
      },
      "source": [
        "# En esta celda de código se guarda el resultado en una variable `df` (y no se muestra) \n",
        "\n",
        "%%bigquery --project dlk-sem-gmm-qa df\n",
        "SELECT \n",
        " * \n",
        "FROM `dlk-sem-gmm-qa.dlk_capacitacion.cnm_solicitud` limit 20"
      ],
      "execution_count": 0,
      "outputs": []
    },
    {
      "cell_type": "code",
      "metadata": {
        "id": "x3mTEnkE_rRi",
        "colab_type": "code",
        "colab": {}
      },
      "source": [
        "Explicacion de las tablas y mas ejercicios "
      ],
      "execution_count": 0,
      "outputs": []
    },
    {
      "cell_type": "code",
      "metadata": {
        "colab_type": "code",
        "id": "xgopBClCKs_0",
        "colab": {}
      },
      "source": [
        "# Una vez cargada la variable con el resultado, se usa la función `shape` para obtener las dimensiones\n",
        "df.dtypes"
      ],
      "execution_count": 0,
      "outputs": []
    },
    {
      "cell_type": "markdown",
      "metadata": {
        "colab_type": "text",
        "id": "fkhbyGaXKs_6"
      },
      "source": [
        "## Usar BigQuery a través de la librería `google-cloud-bigquery`\n",
        "\n",
        "Ver la [documentación de BigQuery](https://cloud.google.com/bigquery/docs) y la [la documentación de referencia para la librería](https://googlecloudplatform.github.io/google-cloud-python/latest/bigquery/usage.html).\n",
        "\n",
        "Las tablas que utilizaremos son parte del proyecto del Data Lake. En específico de los rubros de gastos médicos y autos."
      ]
    },
    {
      "cell_type": "markdown",
      "metadata": {
        "colab_type": "text",
        "id": "goQQ96EDKs_7"
      },
      "source": [
        "### Primero que nada se declara la variable `project_id` la cual aloja el nombre del proyecto que usaremos a lo largo del notebook. "
      ]
    },
    {
      "cell_type": "code",
      "metadata": {
        "colab_type": "code",
        "id": "hWK0nJWgKs_8",
        "colab": {}
      },
      "source": [
        "project_id = 'dlk-sem-gmm-qa'\n"
      ],
      "execution_count": 0,
      "outputs": []
    },
    {
      "cell_type": "markdown",
      "metadata": {
        "colab_type": "text",
        "id": "lK-9fSClKtAB"
      },
      "source": [
        "### En general los notebooks sirven para desarrollar prototipos de análisis.\n",
        "\n",
        "### No resulta buena práctica cargar la tabla completa a memoria, ya que vuelve muy ineficiente el uso de recursos.\n",
        "\n",
        "### A menudo es suficiente consultar una muestra aleatoria de las filas.\n",
        "\n",
        "### Una vez desarrollado el prototipo se puede quitar esta restricción y enviar de forma masiva, incluso sobre ambientes distribuidos.\n"
      ]
    },
    {
      "cell_type": "code",
      "metadata": {
        "colab_type": "code",
        "id": "ONI1Xo0-KtAD",
        "colab": {}
      },
      "source": [
        "## Se importa la librería y se inicializa el cliente\n",
        "from google.cloud import bigquery\n",
        "client = bigquery.Client(project = project_id)\n",
        "\n",
        "## Se declaran los nombres del dataset y de la tabla\n",
        "dataset_id = 'dlk_capacitacion'\n",
        "table_id = 'cnm_solicitud'\n",
        "\n",
        "## Se genera el id completo de la tabla \n",
        "tablename = \"{}.{}.{}\".format(project_id, dataset_id, table_id)\n",
        "\n",
        "## Se propone un tamaño muestra\n",
        "n_muestra = 100000\n",
        "\n",
        "## Se consulta el total de filas como arriba, es un dataframe de dimensiones (1,1)\n",
        "total_filas = client.query('''\n",
        "  SELECT \n",
        "    COUNT(*) as total\n",
        "  FROM `{}`'''.format(tablename)).to_dataframe().total[0]\n",
        "\n",
        "proporcion = float(n_muestra)/float(total_filas)\n",
        "\n",
        "sql_query = '''\n",
        "  SELECT\n",
        "    *\n",
        "  FROM\n",
        "    `%s`\n",
        "  WHERE RAND() < %f\n",
        "''' % (tablename, proporcion)\n",
        "\n",
        "print(\"El query se ve de la siguiente forma: \\n %s\" % sql_query)\n"
      ],
      "execution_count": 0,
      "outputs": []
    },
    {
      "cell_type": "code",
      "metadata": {
        "id": "8ErVegjTjZUk",
        "colab_type": "code",
        "colab": {}
      },
      "source": [
        "## Se consulta la tabla con el argumento query\n",
        "df = client.query(sql_query).to_dataframe()\n",
        "\n",
        "print('Tabla %s tiene %d filas' % (tablename, total_filas))\n",
        "print('Se obtiene una proporción %d' % (proporcion))\n"
      ],
      "execution_count": 0,
      "outputs": []
    },
    {
      "cell_type": "markdown",
      "metadata": {
        "colab_type": "text",
        "id": "Bu2C7iWMKtAM"
      },
      "source": [
        "### Explorar los datos muestreado al usar el método `describe`.\n",
        "### Notar que la muestra no es completamente exacta, debido al redondeo de los decimales."
      ]
    },
    {
      "cell_type": "code",
      "metadata": {
        "colab_type": "code",
        "id": "XrFmZBr9KtAN",
        "colab": {}
      },
      "source": [
        "df.describe()"
      ],
      "execution_count": 0,
      "outputs": []
    },
    {
      "cell_type": "code",
      "metadata": {
        "id": "vkJWtbqHkZg-",
        "colab_type": "code",
        "colab": {}
      },
      "source": [
        "df.shape"
      ],
      "execution_count": 0,
      "outputs": []
    },
    {
      "cell_type": "markdown",
      "metadata": {
        "id": "INyyDZHQkVAS",
        "colab_type": "text"
      },
      "source": [
        "### ¿Por qué podría no coincidir la dimensión con el *count* en el `describe`?"
      ]
    },
    {
      "cell_type": "code",
      "metadata": {
        "id": "XjiwpqvDBJS0",
        "colab_type": "code",
        "colab": {}
      },
      "source": [
        "import pandas as pd\n",
        "\n",
        "## NA Counts\n",
        "df_na = pd.DataFrame(df.isna().sum().reset_index())\n",
        "df_na #Order byyyyy "
      ],
      "execution_count": 0,
      "outputs": []
    },
    {
      "cell_type": "code",
      "metadata": {
        "id": "29Jxq42mAr-z",
        "colab_type": "code",
        "colab": {}
      },
      "source": [
        "df_na.columns = ['variable','na_count']\n",
        "df_na[df_na['na_count'] > 0] \n"
      ],
      "execution_count": 0,
      "outputs": []
    },
    {
      "cell_type": "markdown",
      "metadata": {
        "colab_type": "text",
        "id": "SVWFp6jIKtAa"
      },
      "source": [
        "### View the first 10 rows"
      ]
    },
    {
      "cell_type": "code",
      "metadata": {
        "colab_type": "code",
        "id": "hEYIhPvAKtAd",
        "colab": {}
      },
      "source": [
        "df.head(10).to_csv('prueba_escritura.csv', index= None)"
      ],
      "execution_count": 0,
      "outputs": []
    },
    {
      "cell_type": "code",
      "metadata": {
        "id": "rYa-8KO5b9TL",
        "colab_type": "code",
        "colab": {}
      },
      "source": [
        "! head -n4 prueba_escritura.csv"
      ],
      "execution_count": 0,
      "outputs": []
    },
    {
      "cell_type": "markdown",
      "metadata": {
        "id": "nvFM0t0WnjRp",
        "colab_type": "text"
      },
      "source": [
        "# Escritura y Eliminación de tablas en BigQuery"
      ]
    },
    {
      "cell_type": "code",
      "metadata": {
        "id": "88Z1Y2BinmAd",
        "colab_type": "code",
        "colab": {}
      },
      "source": [
        "## Se elige un nombre para la nueva tabla \n",
        "newtable_id = \"test_table_{}\".format('N99999')\n",
        "\n",
        "## Se ejecuta una consulta para eliminar la tabla si es que existe\n",
        "sql_drop = \"DROP TABLE IF EXISTS `{}.{}.{}`\".format(project_id, dataset_id, newtable_id)\n",
        "client.query(sql_query)  \n",
        "\n",
        "## Se obtienen las referencias de la tabla\n",
        "table_ref = client.dataset(dataset_id).table(newtable_id)\n",
        "\n",
        "## Se inicia el trabajo que subirá el dataframe de pandas (es muy importante la location!)\n",
        "job = client.load_table_from_dataframe(df.head(10), table_ref, location=\"US\")\n",
        "\n",
        "## Espera a que termine el trabajo\n",
        "job.result()  \n",
        "\n",
        "## Se ejecutan algunos *asserts* (si no pasa la condición la ejecución se detiene)\n",
        "\n",
        "assert job.state == \"DONE\"\n",
        "table = client.get_table(table_ref)\n",
        "assert table.num_rows == 10\n",
        "\n",
        "## Se imprime id completo de la tabla\n",
        "print(\"Se creó la tabla {} satisfactoriamente\".format(table.full_table_id))"
      ],
      "execution_count": 0,
      "outputs": []
    },
    {
      "cell_type": "code",
      "metadata": {
        "id": "rxZKBH0dum1q",
        "colab_type": "code",
        "colab": {}
      },
      "source": [
        ""
      ],
      "execution_count": 0,
      "outputs": []
    }
  ]
}